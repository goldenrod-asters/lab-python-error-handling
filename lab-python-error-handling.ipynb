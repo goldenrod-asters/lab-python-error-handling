{
 "cells": [
  {
   "cell_type": "markdown",
   "id": "25d7736c-ba17-4aff-b6bb-66eba20fbf4e",
   "metadata": {},
   "source": [
    "# Lab | Error Handling"
   ]
  },
  {
   "cell_type": "markdown",
   "id": "bc99b386-7508-47a0-bcdb-d969deaf6c8b",
   "metadata": {},
   "source": [
    "## Exercise: Error Handling for Managing Customer Orders\n",
    "\n",
    "The implementation of your code for managing customer orders assumes that the user will always enter a valid input. \n",
    "\n",
    "For example, we could modify the `initialize_inventory` function to include error handling.\n",
    "   - If the user enters an invalid quantity (e.g., a negative value or a non-numeric value), display an error message and ask them to re-enter the quantity for that product.\n",
    "   - Use a try-except block to handle the error and continue prompting the user until a valid quantity is entered.\n",
    "\n",
    "```python\n",
    "# Step 1: Define the function for initializing the inventory with error handling\n",
    "def initialize_inventory(products):\n",
    "    inventory = {}\n",
    "    for product in products:\n",
    "        valid_quantity = False\n",
    "        while not valid_quantity:\n",
    "            try:\n",
    "                quantity = int(input(f\"Enter the quantity of {product}s available: \"))\n",
    "                if quantity < 0:\n",
    "                    raise ValueError(\"Invalid quantity! Please enter a non-negative value.\")\n",
    "                valid_quantity = True\n",
    "            except ValueError as error:\n",
    "                print(f\"Error: {error}\")\n",
    "        inventory[product] = quantity\n",
    "    return inventory\n",
    "\n",
    "# Or, in another way:\n",
    "\n",
    "def initialize_inventory(products):\n",
    "    inventory = {}\n",
    "    for product in products:\n",
    "        valid_input = False\n",
    "        while not valid_input:\n",
    "            try:\n",
    "                quantity = int(input(f\"Enter the quantity of {product}s available: \"))\n",
    "                if quantity >= 0:\n",
    "                    inventory[product] = quantity\n",
    "                    valid_input = True\n",
    "                else:\n",
    "                    print(\"Quantity cannot be negative. Please enter a valid quantity.\")\n",
    "            except ValueError:\n",
    "                print(\"Invalid input. Please enter a valid quantity.\")\n",
    "    return inventory\n",
    "```\n",
    "\n",
    "Let's enhance your code by implementing error handling to handle invalid inputs.\n",
    "\n",
    "Follow the steps below to complete the exercise:\n",
    "\n",
    "2. Modify the `calculate_total_price` function to include error handling.\n",
    "   - If the user enters an invalid price (e.g., a negative value or a non-numeric value), display an error message and ask them to re-enter the price for that product.\n",
    "   - Use a try-except block to handle the error and continue prompting the user until a valid price is entered.\n",
    "\n",
    "3. Modify the `get_customer_orders` function to include error handling.\n",
    "   - If the user enters an invalid number of orders (e.g., a negative value or a non-numeric value), display an error message and ask them to re-enter the number of orders.\n",
    "   - If the user enters an invalid product name (e.g., a product name that is not in the inventory), or that doesn't have stock available, display an error message and ask them to re-enter the product name. *Hint: you will need to pass inventory as a parameter*\n",
    "   - Use a try-except block to handle the error and continue prompting the user until a valid product name is entered.\n",
    "\n",
    "4. Test your code by running the program and deliberately entering invalid quantities and product names. Make sure the error handling mechanism works as expected.\n"
   ]
  },
  {
   "cell_type": "code",
   "execution_count": 1,
   "id": "1b1eab48",
   "metadata": {},
   "outputs": [],
   "source": [
    "products = [\"t-shirt\", \"mug\", \"hat\", \"book\", \"keychain\"]\n",
    "\n",
    "def initialize_inventory(products):\n",
    "    inventory = {}\n",
    "    for i in products:\n",
    "        valid_input = False\n",
    "        while not valid_input:\n",
    "            try:\n",
    "                quant = int(input(f\"Enter the quantity of {i}s available in inventory: \"))\n",
    "                if quant >= 0:\n",
    "                    inventory[i] = quant\n",
    "                    valid_input = True\n",
    "                else:\n",
    "                    print(\"Quantity cannot be negative. Please enter a valid quantity.\")\n",
    "            except ValueError:\n",
    "                print(\"Invalid input. Please enter a valid quantity.\")\n",
    "    return inventory"
   ]
  },
  {
   "cell_type": "code",
   "execution_count": 2,
   "id": "de3be4d9",
   "metadata": {},
   "outputs": [],
   "source": [
    "# alternate option with while and True, rather than double negative\n",
    "\n",
    "#def initialize_inventory(products):\n",
    "#    inventory = {}\n",
    "#    for i in products:\n",
    "#        valid_input = True\n",
    "#        while valid_input:\n",
    "#            try:\n",
    "#                quant = int(input(f\"Enter the quantity of {i}s available in inventory: \"))\n",
    "#                if quant >= 0:\n",
    "#                    inventory[i] = quant\n",
    "#                    valid_input = False\n",
    "#                else:\n",
    "#                    print(\"Quantity cannot be negative. Please enter a valid quantity.\")\n",
    "#            except ValueError:\n",
    "#                print(\"Invalid input. Please enter a valid quantity.\")\n",
    "#    return inventory"
   ]
  },
  {
   "cell_type": "code",
   "execution_count": 15,
   "id": "c05229de",
   "metadata": {},
   "outputs": [],
   "source": [
    "# If the user enters an invalid number of orders (e.g., a negative value or a non-numeric value), display an error message and ask them to re-enter the number of orders.\n",
    "# If the user enters an invalid product name (e.g., a product name that is not in the inventory), or that doesn't have stock available, display an error message and ask them to re-enter the product name. Hint: you will need to pass inventory as a parameter\n",
    "# Use a try-except block to handle the error and continue prompting the user until a valid product name is entered.\n",
    "#def get_customer_orders():\n",
    "#    ordernumber = int(input(\"How many products would the customer like to order: \"))\n",
    "#    customer_orders = {\n",
    "#        input(\"Enter the name of a product that the customer would like to order: \").lower().strip()\n",
    "#        for i in range(ordernumber)}\n",
    "#    return customer_orders \n",
    "\n",
    "def get_customer_orders(inventory):\n",
    "    customer_orders = set()\n",
    "    prices = set()\n",
    "    \n",
    "    while True:\n",
    "        try:\n",
    "            ordernumber = int(input(\"How many products would the customer like to order: \").strip())\n",
    "            break\n",
    "        except ValueError:\n",
    "            print(f\"Please enter only a numeric value. Please try again.\")\n",
    "            \n",
    "    for i in range(ordernumber):\n",
    "        while True:\n",
    "            inputproduct = input(\"Enter the name of the product you would like to order: \").lower().strip()\n",
    "            try:\n",
    "                if inputproduct in inventory and inventory[inputproduct] > 0:\n",
    "                    customer_orders.add(inputproduct)\n",
    "                    break\n",
    "                else:\n",
    "                    if inputproduct not in inventory:\n",
    "                        raise ValueError(f\"Error: {inputproduct} is not available in the inventory.\")\n",
    "                    elif inventory[inputproduct] < 1:\n",
    "                        raise ValueError(f\"Error: {inputproduct} is out of stock.\")\n",
    "            except Exception as E:\n",
    "                print(f\"{E}\")  \n",
    "                \n",
    "    return customer_orders"
   ]
  },
  {
   "cell_type": "code",
   "execution_count": 4,
   "id": "cb6e5c74",
   "metadata": {},
   "outputs": [],
   "source": [
    "def update_inventory(customer_orders,inventory):\n",
    "    inventory = {\n",
    "        prod: inventory[prod] - 1 \n",
    "        if prod in customer_orders and inventory[prod] > 0 \n",
    "        else inventory[prod] for prod in inventory}\n",
    "    # filter inventory out for products that are out of stock\n",
    "    inventory = {prod:quant for prod,quant in inventory.items() if quant > 0}\n",
    "    return inventory"
   ]
  },
  {
   "cell_type": "code",
   "execution_count": 5,
   "id": "4c174b04",
   "metadata": {},
   "outputs": [],
   "source": [
    "def calculate_order_statistics(customer_orders,products):\n",
    "    totalordered = len(customer_orders)\n",
    "    percordered = totalordered / sum(updated_inventory.values()) * 100\n",
    "    return totalordered, percordered\n",
    "\n",
    "def print_order_statistics(order_status):\n",
    "    print(f\"Order Statistics: \")\n",
    "    print(f\"Total Products Ordered: {order_status[0]}\")\n",
    "    print(f\"Percentage of Products Ordered: {order_status[1]}%\")\n",
    "    \n",
    "def print_updated_inventory(updated_inventory):\n",
    "    print(f\"Updated inventory: \")\n",
    "    [print(f\"{product}: {quantity}\") for product, quantity in updated_inventory.items()]"
   ]
  },
  {
   "cell_type": "code",
   "execution_count": 32,
   "id": "b7eebc51",
   "metadata": {},
   "outputs": [
    {
     "ename": "SyntaxError",
     "evalue": "expected ':' (3914613955.py, line 5)",
     "output_type": "error",
     "traceback": [
      "\u001b[0;36m  Cell \u001b[0;32mIn[32], line 5\u001b[0;36m\u001b[0m\n\u001b[0;31m    for product in customer_orders\u001b[0m\n\u001b[0m                                  ^\u001b[0m\n\u001b[0;31mSyntaxError\u001b[0m\u001b[0;31m:\u001b[0m expected ':'\n"
     ]
    }
   ],
   "source": [
    "# assuming can only order one of each product at a time\n",
    "\n",
    "def calculate_price(customer_orders):\n",
    "    totalprice = 0\n",
    "    for product in customer_orders:\n",
    "        while True:\n",
    "            price = float(input(f\"Enter the price of a {product}: \"))     \n",
    "            try:\n",
    "                if price >= 0:\n",
    "                    totalprice += price\n",
    "                    break\n",
    "            else:\n",
    "                print(f\"Error: Price must be a positive number or 0.\")\n",
    "        except ValueError:\n",
    "            print(\"Invalid input. Please enter a valid price.\")\n",
    "        \n",
    "        except Exception as e:\n",
    "            print(type(e))\n",
    "            print(f\"{e} occurred when calculating prices.\")\n",
    "        \n",
    "        finally:\n",
    "            print(f\"Total price calculated as: €{totalprice} \")\n",
    "    \n",
    "    return totalprice\n",
    "    "
   ]
  },
  {
   "cell_type": "code",
   "execution_count": 19,
   "id": "6fab99ed",
   "metadata": {},
   "outputs": [
    {
     "name": "stdout",
     "output_type": "stream",
     "text": [
      "Enter the quantity of t-shirts available in inventory: 0\n",
      "Enter the quantity of mugs available in inventory: 2\n",
      "Enter the quantity of hats available in inventory: 2\n",
      "Enter the quantity of books available in inventory: 2\n",
      "Enter the quantity of keychains available in inventory: 2\n"
     ]
    }
   ],
   "source": [
    "inventory = initialize_inventory(products)"
   ]
  },
  {
   "cell_type": "code",
   "execution_count": 20,
   "id": "ee83ec5e",
   "metadata": {},
   "outputs": [
    {
     "name": "stdout",
     "output_type": "stream",
     "text": [
      "How many products would the customer like to order: 2\n",
      "Enter the name of the product you would like to order: mug\n",
      "Enter the name of the product you would like to order: asd\n",
      "Error: asd is not available in the inventory.\n",
      "Enter the name of the product you would like to order: t-shirt\n",
      "Error: t-shirt is out of stock.\n",
      "Enter the name of the product you would like to order: hat\n"
     ]
    }
   ],
   "source": [
    "customer_orders = get_customer_orders(inventory)"
   ]
  },
  {
   "cell_type": "code",
   "execution_count": 30,
   "id": "915a8d2a",
   "metadata": {},
   "outputs": [
    {
     "name": "stdout",
     "output_type": "stream",
     "text": [
      "Enter the price of a mug: 2\n",
      "Enter the price of a hat: 2\n",
      "<class 'TypeError'>\n",
      "'>=' not supported between instances of 'set' and 'int' occurred when calculating prices.\n"
     ]
    },
    {
     "ename": "UnboundLocalError",
     "evalue": "cannot access local variable 'totalprice' where it is not associated with a value",
     "output_type": "error",
     "traceback": [
      "\u001b[0;31m---------------------------------------------------------------------------\u001b[0m",
      "\u001b[0;31mUnboundLocalError\u001b[0m                         Traceback (most recent call last)",
      "Cell \u001b[0;32mIn[30], line 1\u001b[0m\n\u001b[0;32m----> 1\u001b[0m total_price \u001b[38;5;241m=\u001b[39m calculate_price(customer_orders)\n",
      "Cell \u001b[0;32mIn[29], line 21\u001b[0m, in \u001b[0;36mcalculate_price\u001b[0;34m(customer_orders)\u001b[0m\n\u001b[1;32m     18\u001b[0m         \u001b[38;5;28mprint\u001b[39m(\u001b[38;5;124mf\u001b[39m\u001b[38;5;124m\"\u001b[39m\u001b[38;5;132;01m{\u001b[39;00me\u001b[38;5;132;01m}\u001b[39;00m\u001b[38;5;124m occurred when calculating prices.\u001b[39m\u001b[38;5;124m\"\u001b[39m)\n\u001b[1;32m     20\u001b[0m     \u001b[38;5;28;01mfinally\u001b[39;00m:\n\u001b[0;32m---> 21\u001b[0m         \u001b[38;5;28mprint\u001b[39m(\u001b[38;5;124mf\u001b[39m\u001b[38;5;124m\"\u001b[39m\u001b[38;5;124mTotal price calculated as: €\u001b[39m\u001b[38;5;132;01m{\u001b[39;00mtotalprice\u001b[38;5;132;01m}\u001b[39;00m\u001b[38;5;124m \u001b[39m\u001b[38;5;124m\"\u001b[39m)\n\u001b[1;32m     23\u001b[0m \u001b[38;5;28;01mreturn\u001b[39;00m totalprice\n",
      "\u001b[0;31mUnboundLocalError\u001b[0m: cannot access local variable 'totalprice' where it is not associated with a value"
     ]
    }
   ],
   "source": [
    "total_price = calculate_price(customer_orders)"
   ]
  },
  {
   "cell_type": "code",
   "execution_count": 21,
   "id": "776ead84",
   "metadata": {},
   "outputs": [
    {
     "name": "stdout",
     "output_type": "stream",
     "text": [
      "Order Statistics: \n",
      "Total Products Ordered: 2\n",
      "Percentage of Products Ordered: 33.33333333333333%\n",
      "Updated inventory: \n",
      "mug: 1\n",
      "hat: 1\n",
      "book: 2\n",
      "keychain: 2\n"
     ]
    }
   ],
   "source": [
    "updated_inventory = update_inventory(customer_orders,inventory)\n",
    "order_status = calculate_order_statistics(customer_orders,products)\n",
    "print_order_statistics(order_status)\n",
    "print_updated_inventory(updated_inventory)"
   ]
  }
 ],
 "metadata": {
  "kernelspec": {
   "display_name": "Python 3 (ipykernel)",
   "language": "python",
   "name": "python3"
  },
  "language_info": {
   "codemirror_mode": {
    "name": "ipython",
    "version": 3
   },
   "file_extension": ".py",
   "mimetype": "text/x-python",
   "name": "python",
   "nbconvert_exporter": "python",
   "pygments_lexer": "ipython3",
   "version": "3.11.5"
  }
 },
 "nbformat": 4,
 "nbformat_minor": 5
}
