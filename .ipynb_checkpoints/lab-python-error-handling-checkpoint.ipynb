{
 "cells": [
  {
   "cell_type": "markdown",
   "id": "25d7736c-ba17-4aff-b6bb-66eba20fbf4e",
   "metadata": {},
   "source": [
    "# Lab | Error Handling"
   ]
  },
  {
   "cell_type": "markdown",
   "id": "bc99b386-7508-47a0-bcdb-d969deaf6c8b",
   "metadata": {},
   "source": [
    "## Exercise: Error Handling for Managing Customer Orders\n",
    "\n",
    "The implementation of your code for managing customer orders assumes that the user will always enter a valid input. \n",
    "\n",
    "For example, we could modify the `initialize_inventory` function to include error handling.\n",
    "   - If the user enters an invalid quantity (e.g., a negative value or a non-numeric value), display an error message and ask them to re-enter the quantity for that product.\n",
    "   - Use a try-except block to handle the error and continue prompting the user until a valid quantity is entered.\n",
    "\n",
    "```python\n",
    "# Step 1: Define the function for initializing the inventory with error handling\n",
    "def initialize_inventory(products):\n",
    "    inventory = {}\n",
    "    for product in products:\n",
    "        valid_quantity = False\n",
    "        while not valid_quantity:\n",
    "            try:\n",
    "                quantity = int(input(f\"Enter the quantity of {product}s available: \"))\n",
    "                if quantity < 0:\n",
    "                    raise ValueError(\"Invalid quantity! Please enter a non-negative value.\")\n",
    "                valid_quantity = True\n",
    "            except ValueError as error:\n",
    "                print(f\"Error: {error}\")\n",
    "        inventory[product] = quantity\n",
    "    return inventory\n",
    "\n",
    "# Or, in another way:\n",
    "\n",
    "def initialize_inventory(products):\n",
    "    inventory = {}\n",
    "    for product in products:\n",
    "        valid_input = False\n",
    "        while not valid_input:\n",
    "            try:\n",
    "                quantity = int(input(f\"Enter the quantity of {product}s available: \"))\n",
    "                if quantity >= 0:\n",
    "                    inventory[product] = quantity\n",
    "                    valid_input = True\n",
    "                else:\n",
    "                    print(\"Quantity cannot be negative. Please enter a valid quantity.\")\n",
    "            except ValueError:\n",
    "                print(\"Invalid input. Please enter a valid quantity.\")\n",
    "    return inventory\n",
    "```\n",
    "\n",
    "Let's enhance your code by implementing error handling to handle invalid inputs.\n",
    "\n",
    "Follow the steps below to complete the exercise:\n",
    "\n",
    "2. Modify the `calculate_total_price` function to include error handling.\n",
    "   - If the user enters an invalid price (e.g., a negative value or a non-numeric value), display an error message and ask them to re-enter the price for that product.\n",
    "   - Use a try-except block to handle the error and continue prompting the user until a valid price is entered.\n",
    "\n",
    "3. Modify the `get_customer_orders` function to include error handling.\n",
    "   - If the user enters an invalid number of orders (e.g., a negative value or a non-numeric value), display an error message and ask them to re-enter the number of orders.\n",
    "   - If the user enters an invalid product name (e.g., a product name that is not in the inventory), or that doesn't have stock available, display an error message and ask them to re-enter the product name. *Hint: you will need to pass inventory as a parameter*\n",
    "   - Use a try-except block to handle the error and continue prompting the user until a valid product name is entered.\n",
    "\n",
    "4. Test your code by running the program and deliberately entering invalid quantities and product names. Make sure the error handling mechanism works as expected.\n"
   ]
  },
  {
   "cell_type": "code",
   "execution_count": 1,
   "id": "1b1eab48",
   "metadata": {},
   "outputs": [],
   "source": [
    "products = [\"t-shirt\", \"mug\", \"hat\", \"book\", \"keychain\"]\n",
    "\n",
    "def initialize_inventory(products):\n",
    "    inventory = {}\n",
    "    for i in products:\n",
    "        valid_input = False\n",
    "        while not valid_input:\n",
    "            try:\n",
    "                quant = int(input(f\"Enter the quantity of {i}s available in inventory: \"))\n",
    "                if quant >= 0:\n",
    "                    inventory[i] = quant\n",
    "                    valid_input = True\n",
    "                else:\n",
    "                    print(\"Quantity cannot be negative. Please enter a valid quantity.\")\n",
    "            except ValueError:\n",
    "                print(\"Invalid input. Please enter a valid quantity.\")\n",
    "    return inventory"
   ]
  },
  {
   "cell_type": "code",
   "execution_count": null,
   "id": "de3be4d9",
   "metadata": {},
   "outputs": [],
   "source": [
    "# alternate option with while and True, rather than double negative\n",
    "\n",
    "#def initialize_inventory(products):\n",
    "#    inventory = {}\n",
    "#    for i in products:\n",
    "#        valid_input = True\n",
    "#        while valid_input:\n",
    "#            try:\n",
    "#                quant = int(input(f\"Enter the quantity of {i}s available in inventory: \"))\n",
    "#                if quant >= 0:\n",
    "#                    inventory[i] = quant\n",
    "#                    valid_input = False\n",
    "#                else:\n",
    "#                    print(\"Quantity cannot be negative. Please enter a valid quantity.\")\n",
    "#            except ValueError:\n",
    "#                print(\"Invalid input. Please enter a valid quantity.\")\n",
    "#    return inventory"
   ]
  },
  {
   "cell_type": "code",
   "execution_count": 10,
   "id": "c05229de",
   "metadata": {},
   "outputs": [],
   "source": [
    "# If the user enters an invalid number of orders (e.g., a negative value or a non-numeric value), display an error message and ask them to re-enter the number of orders.\n",
    "# If the user enters an invalid product name (e.g., a product name that is not in the inventory), or that doesn't have stock available, display an error message and ask them to re-enter the product name. Hint: you will need to pass inventory as a parameter\n",
    "# Use a try-except block to handle the error and continue prompting the user until a valid product name is entered.\n",
    "#def get_customer_orders():\n",
    "#    ordernumber = int(input(\"How many products would the customer like to order: \"))\n",
    "#    customer_orders = {\n",
    "#        input(\"Enter the name of a product that the customer would like to order: \").lower().strip()\n",
    "#        for i in range(ordernumber)}\n",
    "#    return customer_orders \n",
    "\n",
    "def get_customer_orders(inventory):\n",
    "    customer_orders = set()\n",
    "    prices = set()\n",
    "    \n",
    "    while True:\n",
    "        try:\n",
    "            ordernumber = int(input(\"How many products would the customer like to order: \").strip())\n",
    "            break\n",
    "        except ValueError:\n",
    "            print(f\"Please enter only a numeric value. Please try again.\")\n",
    "            \n",
    "    for i in range(ordernumber):\n",
    "        while True:\n",
    "            try:\n",
    "                inputproduct = input(\"Enter the name of the product you would like to order: \").lower().strip()\n",
    "                customer_orders.add(inputproduct)\n",
    "                break\n",
    "            except Exception as E:\n",
    "                print(f\"Error occurred: {E}. Please try again.\")  \n",
    "                \n",
    "    return customer_orders"
   ]
  },
  {
   "cell_type": "code",
   "execution_count": 5,
   "id": "cb6e5c74",
   "metadata": {},
   "outputs": [],
   "source": [
    "def update_inventory(customer_orders,inventory):\n",
    "    inventory = {\n",
    "        prod: inventory[prod] - 1 \n",
    "        if prod in customer_orders and inventory[prod] > 0 \n",
    "        else inventory[prod] for prod in inventory}\n",
    "    # filter inventory out for products that are out of stock\n",
    "    inventory = {prod:quant for prod,quant in inventory.items() if quant > 0}\n",
    "    return inventory"
   ]
  },
  {
   "cell_type": "code",
   "execution_count": 6,
   "id": "4c174b04",
   "metadata": {},
   "outputs": [],
   "source": [
    "def calculate_order_statistics(customer_orders,products):\n",
    "    totalordered = len(customer_orders)\n",
    "    percordered = totalordered / sum(updated_inventory.values()) * 100\n",
    "    return totalordered, percordered\n",
    "\n",
    "def print_order_statistics(order_status):\n",
    "    print(f\"Order Statistics: \")\n",
    "    print(f\"Total Products Ordered: {order_status[0]}\")\n",
    "    print(f\"Percentage of Products Ordered: {order_status[1]}%\")\n",
    "    \n",
    "def print_updated_inventory(updated_inventory):\n",
    "    print(f\"Updated inventory: \")\n",
    "    [print(f\"{product}: {quantity}\") for product, quantity in updated_inventory.items()]"
   ]
  },
  {
   "cell_type": "code",
   "execution_count": 7,
   "id": "b7eebc51",
   "metadata": {},
   "outputs": [],
   "source": [
    "def calculate_price(customer_orders):\n",
    "    try:\n",
    "        prices = {\n",
    "            float(input(f\"Enter the price of a {product}: \"))\n",
    "            for product in customer_orders}\n",
    "        totalprice = sum(prices)\n",
    "        return totalprice\n",
    "        \n",
    "    except ValueError:\n",
    "        print(\"Please enter only numeric values with . as decimal point for prices.\")\n",
    "        \n",
    "    except Exception as something_else:\n",
    "        print(type(something_else))\n",
    "        print(f\"{something_else} occurred when calculating prices.\")\n",
    "    \n",
    "    finally:\n",
    "        print(\"Total price calculated as: €{totalprice} \")"
   ]
  },
  {
   "cell_type": "code",
   "execution_count": 8,
   "id": "9e912101",
   "metadata": {},
   "outputs": [
    {
     "name": "stdout",
     "output_type": "stream",
     "text": [
      "Enter the quantity of t-shirts available in inventory: 2\n",
      "Enter the quantity of mugs available in inventory: 2\n",
      "Enter the quantity of hats available in inventory: 2\n",
      "Enter the quantity of books available in inventory: 2\n",
      "Enter the quantity of keychains available in inventory: 2\n"
     ]
    }
   ],
   "source": [
    "inventory = initialize_inventory(products)"
   ]
  },
  {
   "cell_type": "code",
   "execution_count": 11,
   "id": "ee83ec5e",
   "metadata": {},
   "outputs": [
    {
     "name": "stdout",
     "output_type": "stream",
     "text": [
      "How many products would the customer like to order: 2\n",
      "Enter the name of the product you would like to order: mug\n",
      "Enter the name of the product you would like to order: hat\n"
     ]
    }
   ],
   "source": [
    "customer_orders = get_customer_orders(inventory)"
   ]
  },
  {
   "cell_type": "code",
   "execution_count": 16,
   "id": "776ead84",
   "metadata": {},
   "outputs": [
    {
     "name": "stdout",
     "output_type": "stream",
     "text": [
      "Order Statistics: \n",
      "Total Products Ordered: 2\n",
      "Percentage of Products Ordered: 25.0%\n",
      "Updated inventory: \n",
      "t-shirt: 2\n",
      "mug: 1\n",
      "hat: 1\n",
      "book: 2\n",
      "keychain: 2\n"
     ]
    }
   ],
   "source": [
    "updated_inventory = update_inventory(customer_orders,inventory)\n",
    "order_status = calculate_order_statistics(customer_orders,products)\n",
    "print_order_statistics(order_status)\n",
    "print_updated_inventory(updated_inventory)"
   ]
  }
 ],
 "metadata": {
  "kernelspec": {
   "display_name": "Python 3 (ipykernel)",
   "language": "python",
   "name": "python3"
  },
  "language_info": {
   "codemirror_mode": {
    "name": "ipython",
    "version": 3
   },
   "file_extension": ".py",
   "mimetype": "text/x-python",
   "name": "python",
   "nbconvert_exporter": "python",
   "pygments_lexer": "ipython3",
   "version": "3.11.5"
  }
 },
 "nbformat": 4,
 "nbformat_minor": 5
}
